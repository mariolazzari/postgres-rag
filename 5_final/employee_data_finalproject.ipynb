{
  "cells": [
    {
      "cell_type": "code",
      "execution_count": null,
      "id": "d0556454-268b-402f-afad-8423a068965d",
      "metadata": {
        "id": "d0556454-268b-402f-afad-8423a068965d"
      },
      "outputs": [],
      "source": [
        "%pip install 'vanna[postgres]'"
      ]
    },
    {
      "cell_type": "code",
      "execution_count": null,
      "id": "e77e9fdb-1a78-49aa-818b-15f1202b6289",
      "metadata": {
        "id": "e77e9fdb-1a78-49aa-818b-15f1202b6289"
      },
      "outputs": [],
      "source": [
        "import vanna\n",
        "from vanna.remote import VannaDefault"
      ]
    },
    {
      "cell_type": "code",
      "execution_count": null,
      "id": "9c3d143a-1938-4a20-9cf1-98b90f84b6f0",
      "metadata": {
        "id": "9c3d143a-1938-4a20-9cf1-98b90f84b6f0"
      },
      "outputs": [],
      "source": [
        "api_key = vanna.get_api_key('<youremailaddress>')"
      ]
    },
    {
      "cell_type": "code",
      "execution_count": null,
      "id": "24a6701a-1244-4ad9-9c14-bed314772f52",
      "metadata": {
        "id": "24a6701a-1244-4ad9-9c14-bed314772f52"
      },
      "outputs": [],
      "source": [
        "vanna_model_name = 'employee_data_model'\n",
        "vn = VannaDefault(model=vanna_model_name, api_key=api_key)"
      ]
    },
    {
      "cell_type": "code",
      "execution_count": null,
      "id": "aaf85f16-8468-4de1-8b0f-40c305161860",
      "metadata": {
        "id": "aaf85f16-8468-4de1-8b0f-40c305161860"
      },
      "outputs": [],
      "source": [
        "vn.connect_to_postgres(host='localhost', dbname='demographics', user='postgres', password='newpassword', port='5432')"
      ]
    },
    {
      "cell_type": "code",
      "execution_count": null,
      "id": "07c75b03-ac08-407d-a2a1-79a5dd355f4a",
      "metadata": {
        "id": "07c75b03-ac08-407d-a2a1-79a5dd355f4a"
      },
      "outputs": [],
      "source": [
        "vn.train(ddl=\"\"\"\n",
        "CREATE TABLE employee_data (\n",
        "    employee_id VARCHAR(100),\n",
        "    employee_name VARCHAR(100),\n",
        "    job_title VARCHAR(100),\n",
        "    career_level VARCHAR(50),\n",
        "    gender VARCHAR(100),\n",
        "    age INTEGER,\n",
        "    race_ethnicity VARCHAR(100),\n",
        "    compensation NUMERIC(10,2),\n",
        "    compensation_range VARCHAR(50),\n",
        "    hire_date DATE,\n",
        "    work_location VARCHAR(50),\n",
        "    role_type VARCHAR(50),\n",
        "    veteran_status VARCHAR(3),\n",
        "    disability_status VARCHAR(3)\n",
        ");\n",
        "\"\"\")"
      ]
    },
    {
      "cell_type": "code",
      "execution_count": null,
      "id": "1753eed8-fe1d-45e0-85a9-b39ccb6932a8",
      "metadata": {
        "id": "1753eed8-fe1d-45e0-85a9-b39ccb6932a8"
      },
      "outputs": [],
      "source": [
        "# The information schema query may need some tweaking depending on your database. This is a good starting point.\n",
        "df_information_schema = vn.run_sql(\"SELECT * FROM INFORMATION_SCHEMA.COLUMNS\")\n",
        "\n",
        "# This will break up the information schema into bite-sized chunks that can be referenced by the LLM\n",
        "plan = vn.get_training_plan_generic(df_information_schema)\n",
        "plan"
      ]
    },
    {
      "cell_type": "code",
      "execution_count": null,
      "id": "e283bf61-23d1-4fa7-8dce-92e8bd8dcc56",
      "metadata": {
        "id": "e283bf61-23d1-4fa7-8dce-92e8bd8dcc56"
      },
      "outputs": [],
      "source": [
        "vn.train(documentation=\"Demographics employee database with a single employees table\")"
      ]
    },
    {
      "cell_type": "code",
      "execution_count": null,
      "id": "aed63452-8dce-445a-88b3-6e652f813e45",
      "metadata": {
        "id": "aed63452-8dce-445a-88b3-6e652f813e45"
      },
      "outputs": [],
      "source": [
        "# Train from a sql statement\n",
        "vn.train(sql=\"\"\"SELECT * FROM employee_data\"\"\")\n",
        "\n",
        "# Refer to the handout and add your own questions"
      ]
    },
    {
      "cell_type": "code",
      "execution_count": null,
      "id": "9197ef81-c98f-4ff3-b0b1-a9cf90c2ad4d",
      "metadata": {
        "id": "9197ef81-c98f-4ff3-b0b1-a9cf90c2ad4d"
      },
      "outputs": [],
      "source": [
        "# Retrain the RAG model\n",
        "training_data = vn.get_training_data()\n",
        "training_data"
      ]
    },
    {
      "cell_type": "code",
      "execution_count": null,
      "id": "2a2f2446-43c5-4a4e-bf11-ceb882b0fd90",
      "metadata": {
        "id": "2a2f2446-43c5-4a4e-bf11-ceb882b0fd90"
      },
      "outputs": [],
      "source": [
        "# Write your question here\n",
        "vn.ask()"
      ]
    }
  ],
  "metadata": {
    "kernelspec": {
      "display_name": "Python 3 (ipykernel)",
      "language": "python",
      "name": "python3"
    },
    "language_info": {
      "codemirror_mode": {
        "name": "ipython",
        "version": 3
      },
      "file_extension": ".py",
      "mimetype": "text/x-python",
      "name": "python",
      "nbconvert_exporter": "python",
      "pygments_lexer": "ipython3",
      "version": "3.10.12"
    },
    "colab": {
      "provenance": []
    }
  },
  "nbformat": 4,
  "nbformat_minor": 5
}